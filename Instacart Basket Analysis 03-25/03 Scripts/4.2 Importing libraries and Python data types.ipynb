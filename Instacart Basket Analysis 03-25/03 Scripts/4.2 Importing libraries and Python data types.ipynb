{
 "cells": [
  {
   "cell_type": "markdown",
   "id": "7fb3d279-41b5-4c68-ad0e-e5f49a83c837",
   "metadata": {},
   "source": [
    "##01. Importing libraries"
   ]
  },
  {
   "cell_type": "code",
   "execution_count": 13,
   "id": "0cee5e37-b9e5-4e8f-a6d8-b5e09a3db830",
   "metadata": {},
   "outputs": [],
   "source": [
    "# Import libraries: pandas,nump and os\n",
    "import pandas as pd\n",
    "import numpy as np\n",
    "import os\n",
    "\n"
   ]
  },
  {
   "cell_type": "markdown",
   "id": "3740ed8d-7e6c-4a06-a233-ae83e721e53f",
   "metadata": {},
   "source": [
    "##02. Data types"
   ]
  },
  {
   "cell_type": "code",
   "execution_count": 17,
   "id": "4f605304-db21-446b-83d5-ccb72dff99c8",
   "metadata": {},
   "outputs": [],
   "source": [
    "x=2\n"
   ]
  },
  {
   "cell_type": "code",
   "execution_count": 19,
   "id": "24224cfc-581d-4795-acc7-429327c69a9d",
   "metadata": {},
   "outputs": [
    {
     "data": {
      "text/plain": [
       "2"
      ]
     },
     "execution_count": 19,
     "metadata": {},
     "output_type": "execute_result"
    }
   ],
   "source": [
    "x"
   ]
  },
  {
   "cell_type": "code",
   "execution_count": 21,
   "id": "f4361ebb-041c-4ec9-a2d5-9b984ca301d8",
   "metadata": {},
   "outputs": [
    {
     "name": "stdout",
     "output_type": "stream",
     "text": [
      "2\n"
     ]
    }
   ],
   "source": [
    "print(x)\n"
   ]
  },
  {
   "cell_type": "code",
   "execution_count": 23,
   "id": "cc8fe432-1567-46c7-b079-cf97d68f57e3",
   "metadata": {},
   "outputs": [
    {
     "data": {
      "text/plain": [
       "int"
      ]
     },
     "execution_count": 23,
     "metadata": {},
     "output_type": "execute_result"
    }
   ],
   "source": [
    "type(x)"
   ]
  },
  {
   "cell_type": "code",
   "execution_count": 25,
   "id": "4a2a24ca-16e1-4d43-abff-dddf0d8bf781",
   "metadata": {},
   "outputs": [],
   "source": [
    "y=5.726\n"
   ]
  },
  {
   "cell_type": "code",
   "execution_count": 27,
   "id": "fbee65b2-37cf-413a-ae0f-df005b85efa8",
   "metadata": {},
   "outputs": [
    {
     "data": {
      "text/plain": [
       "float"
      ]
     },
     "execution_count": 27,
     "metadata": {},
     "output_type": "execute_result"
    }
   ],
   "source": [
    "type(y)\n"
   ]
  },
  {
   "cell_type": "code",
   "execution_count": 29,
   "id": "105f4724-9851-498e-98f4-54ac5facb66e",
   "metadata": {},
   "outputs": [],
   "source": [
    "z='Brazil'"
   ]
  },
  {
   "cell_type": "code",
   "execution_count": 31,
   "id": "1f45d108-498e-4838-afa1-fd69ca30f0e1",
   "metadata": {},
   "outputs": [
    {
     "data": {
      "text/plain": [
       "str"
      ]
     },
     "execution_count": 31,
     "metadata": {},
     "output_type": "execute_result"
    }
   ],
   "source": [
    "type(z)\n"
   ]
  },
  {
   "cell_type": "code",
   "execution_count": 37,
   "id": "82ce4941-b794-4657-b3c1-9489dc891e94",
   "metadata": {},
   "outputs": [
    {
     "data": {
      "text/plain": [
       "bool"
      ]
     },
     "execution_count": 37,
     "metadata": {},
     "output_type": "execute_result"
    }
   ],
   "source": [
    "type(True)\n"
   ]
  },
  {
   "cell_type": "code",
   "execution_count": 39,
   "id": "97864a2d-7260-4d2c-9b03-ee41781e987c",
   "metadata": {},
   "outputs": [
    {
     "data": {
      "text/plain": [
       "bool"
      ]
     },
     "execution_count": 39,
     "metadata": {},
     "output_type": "execute_result"
    }
   ],
   "source": [
    "type(False)\n"
   ]
  },
  {
   "cell_type": "code",
   "execution_count": 45,
   "id": "9db6a221-ca80-48c8-ba2f-3f922f10fef8",
   "metadata": {},
   "outputs": [],
   "source": [
    "a='Hello,'"
   ]
  },
  {
   "cell_type": "code",
   "execution_count": 47,
   "id": "151a5e68-28b2-4a12-b696-83aed6f3424c",
   "metadata": {},
   "outputs": [],
   "source": [
    "b='Bob'"
   ]
  },
  {
   "cell_type": "code",
   "execution_count": 51,
   "id": "2faf07ac-5e22-4775-a684-0c1a51588d23",
   "metadata": {},
   "outputs": [
    {
     "data": {
      "text/plain": [
       "'Hello,Bob'"
      ]
     },
     "execution_count": 51,
     "metadata": {},
     "output_type": "execute_result"
    }
   ],
   "source": [
    "a+b"
   ]
  },
  {
   "cell_type": "code",
   "execution_count": 53,
   "id": "397135f1-4e2c-404e-a409-77305c8eef2a",
   "metadata": {},
   "outputs": [],
   "source": [
    "n='ananas'"
   ]
  },
  {
   "cell_type": "code",
   "execution_count": 55,
   "id": "d9ec9d39-86e4-4961-90c7-545c91823338",
   "metadata": {},
   "outputs": [
    {
     "data": {
      "text/plain": [
       "'ananasananasananasananasananasananasananasananasananasananasananasananas'"
      ]
     },
     "execution_count": 55,
     "metadata": {},
     "output_type": "execute_result"
    }
   ],
   "source": [
    "n*12\n"
   ]
  },
  {
   "cell_type": "code",
   "execution_count": 57,
   "id": "decc7750-93e1-4190-a922-49e9cacd157d",
   "metadata": {},
   "outputs": [
    {
     "data": {
      "text/plain": [
       "'ananasananasananasananasananasananasananasananasananasananasananasananasananasananasananasananasananasananasananasananasananasananasananasananasananasananasananasananasananasananas'"
      ]
     },
     "execution_count": 57,
     "metadata": {},
     "output_type": "execute_result"
    }
   ],
   "source": [
    "n*30"
   ]
  },
  {
   "cell_type": "code",
   "execution_count": 59,
   "id": "9dde7f90-66db-4ea2-a9a1-90feca4c034f",
   "metadata": {},
   "outputs": [
    {
     "data": {
      "text/plain": [
       "False"
      ]
     },
     "execution_count": 59,
     "metadata": {},
     "output_type": "execute_result"
    }
   ],
   "source": [
    "x==y"
   ]
  },
  {
   "cell_type": "code",
   "execution_count": 61,
   "id": "52cb49b2-455f-4ac2-9bb7-eb1ea997b509",
   "metadata": {},
   "outputs": [
    {
     "data": {
      "text/plain": [
       "bool"
      ]
     },
     "execution_count": 61,
     "metadata": {},
     "output_type": "execute_result"
    }
   ],
   "source": [
    "type(x==y)\n"
   ]
  },
  {
   "cell_type": "code",
   "execution_count": 63,
   "id": "34855f84-9c58-479d-813d-eb6783755f7b",
   "metadata": {},
   "outputs": [
    {
     "data": {
      "text/plain": [
       "'ananasananas'"
      ]
     },
     "execution_count": 63,
     "metadata": {},
     "output_type": "execute_result"
    }
   ],
   "source": [
    "n*2"
   ]
  },
  {
   "cell_type": "code",
   "execution_count": 65,
   "id": "1617bf79-f761-46c6-932f-35de5ab4a421",
   "metadata": {},
   "outputs": [],
   "source": [
    "# 7.\n",
    "d=50"
   ]
  },
  {
   "cell_type": "code",
   "execution_count": 67,
   "id": "963a45ba-c611-48cc-8d80-8befbcd52382",
   "metadata": {},
   "outputs": [],
   "source": [
    "e=80"
   ]
  },
  {
   "cell_type": "code",
   "execution_count": 69,
   "id": "20e6e16f-43ef-473e-a6e5-e43b5287cfcb",
   "metadata": {},
   "outputs": [],
   "source": [
    "f=30"
   ]
  },
  {
   "cell_type": "code",
   "execution_count": 71,
   "id": "7fb45ab1-1ebf-4c0f-85e1-154f095a9aaa",
   "metadata": {},
   "outputs": [
    {
     "data": {
      "text/plain": [
       "100"
      ]
     },
     "execution_count": 71,
     "metadata": {},
     "output_type": "execute_result"
    }
   ],
   "source": [
    "d+e-f"
   ]
  },
  {
   "cell_type": "code",
   "execution_count": 73,
   "id": "5b10fdb2-2865-42c4-9f28-bd30dba8b780",
   "metadata": {},
   "outputs": [],
   "source": [
    "g=20"
   ]
  },
  {
   "cell_type": "code",
   "execution_count": 75,
   "id": "2737b98c-9e52-4348-b2fd-0f0e033f5258",
   "metadata": {},
   "outputs": [
    {
     "data": {
      "text/plain": [
       "100"
      ]
     },
     "execution_count": 75,
     "metadata": {},
     "output_type": "execute_result"
    }
   ],
   "source": [
    "e+g\n"
   ]
  },
  {
   "cell_type": "code",
   "execution_count": 77,
   "id": "d5314251-64bf-4aee-9209-a3720a7e5d98",
   "metadata": {},
   "outputs": [],
   "source": [
    "h=300"
   ]
  },
  {
   "cell_type": "code",
   "execution_count": 81,
   "id": "22551355-6d3f-408f-9cf5-ff8570d7bf06",
   "metadata": {},
   "outputs": [
    {
     "data": {
      "text/plain": [
       "100"
      ]
     },
     "execution_count": 81,
     "metadata": {},
     "output_type": "execute_result"
    }
   ],
   "source": [
    "h-d-e-g-d"
   ]
  },
  {
   "cell_type": "code",
   "execution_count": 1,
   "id": "eb00ac02-8e34-4d0d-88df-d816bd58b902",
   "metadata": {},
   "outputs": [
    {
     "data": {
      "text/plain": [
       "0.563169164882227"
      ]
     },
     "execution_count": 1,
     "metadata": {},
     "output_type": "execute_result"
    }
   ],
   "source": [
    "#8.\n",
    "i=5.26\n",
    "j=9.34\n",
    "i/j\n"
   ]
  },
  {
   "cell_type": "code",
   "execution_count": 7,
   "id": "e0cb01cb-f199-4a5e-997b-f8b3704c7f07",
   "metadata": {},
   "outputs": [
    {
     "data": {
      "text/plain": [
       "'Tomatowagonpeeler'"
      ]
     },
     "execution_count": 7,
     "metadata": {},
     "output_type": "execute_result"
    }
   ],
   "source": [
    "#9.\n",
    "v='Tomato'\n",
    "w='wagon'\n",
    "k='peeler'\n",
    "v+w+k\n",
    "\n"
   ]
  },
  {
   "cell_type": "code",
   "execution_count": 9,
   "id": "defe7139-bef9-48e4-9e1c-cfe127684845",
   "metadata": {},
   "outputs": [
    {
     "data": {
      "text/plain": [
       "'I want a Tomatowagonpeeler'"
      ]
     },
     "execution_count": 9,
     "metadata": {},
     "output_type": "execute_result"
    }
   ],
   "source": [
    "#10.\n",
    "m='I want a '\n",
    "m+v+w+k\n"
   ]
  },
  {
   "cell_type": "code",
   "execution_count": 13,
   "id": "d9cb27ef-aa25-4af0-a173-19247355aa84",
   "metadata": {},
   "outputs": [
    {
     "data": {
      "text/plain": [
       "'I want a TomatoI want a peeler.'"
      ]
     },
     "execution_count": 13,
     "metadata": {},
     "output_type": "execute_result"
    }
   ],
   "source": [
    "o='.'\n",
    "m+v+m+k+o\n"
   ]
  },
  {
   "cell_type": "code",
   "execution_count": 25,
   "id": "f51364d3-18c7-47ea-8e76-5f982dcb87ae",
   "metadata": {},
   "outputs": [
    {
     "data": {
      "text/plain": [
       "'I want a Tomato.I want a Tomatowagonpeeler.'"
      ]
     },
     "execution_count": 25,
     "metadata": {},
     "output_type": "execute_result"
    }
   ],
   "source": [
    "m+v+o+m+v+w+k+o\n"
   ]
  },
  {
   "cell_type": "code",
   "execution_count": 29,
   "id": "4d5e4544-760b-48e3-b918-647647d8187c",
   "metadata": {},
   "outputs": [
    {
     "data": {
      "text/plain": [
       "'ananasananasananasananasananasananasananasananasananasananasananasananasananasananasananasananasananasananasananasananasananasananasananasananasananasananasananasananasananasananasananasananasananasananasananasananasananasananasananasananasananasananasananasananasananasananasananasananasananasananasananasananasananasananasananasananasananasananasananasananasananasananasananasananasananasananasananasananasananasananasananasananasananasananasananasananasananasananasananasananasananasananasananasananasananasananasananasananasananasananasananasananasananasananasananasananasananasananasananasananas'"
      ]
     },
     "execution_count": 29,
     "metadata": {},
     "output_type": "execute_result"
    }
   ],
   "source": [
    "#Bonus\n",
    "n='ananas'\n",
    "n*100"
   ]
  },
  {
   "cell_type": "code",
   "execution_count": 31,
   "id": "f444df3f-95d7-46bf-a134-7f87f2bf1159",
   "metadata": {},
   "outputs": [
    {
     "data": {
      "text/plain": [
       "'ananas'"
      ]
     },
     "execution_count": 31,
     "metadata": {},
     "output_type": "execute_result"
    }
   ],
   "source": [
    "n"
   ]
  },
  {
   "cell_type": "code",
   "execution_count": null,
   "id": "3951b035-6a6b-4c9c-a107-2357e6e064fb",
   "metadata": {},
   "outputs": [],
   "source": []
  }
 ],
 "metadata": {
  "kernelspec": {
   "display_name": "Python [conda env:base] *",
   "language": "python",
   "name": "conda-base-py"
  },
  "language_info": {
   "codemirror_mode": {
    "name": "ipython",
    "version": 3
   },
   "file_extension": ".py",
   "mimetype": "text/x-python",
   "name": "python",
   "nbconvert_exporter": "python",
   "pygments_lexer": "ipython3",
   "version": "3.12.7"
  }
 },
 "nbformat": 4,
 "nbformat_minor": 5
}
